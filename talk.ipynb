{
 "cells": [
  {
   "cell_type": "markdown",
   "metadata": {},
   "source": [
    "```{=latex}\n",
    "\\usepackage{hyperref}\n",
    "\\usepackage{graphicx}\n",
    "\\usepackage{listings}\n",
    "\\usepackage{textcomp}\n",
    "\\usepackage{fancyvrb}\n",
    "\n",
    "\\newcommand{\\passthrough}[1]{\\lstset{mathescape=false}#1\\lstset{mathescape=false}}\n",
    "\\newcommand{\\tightlist}{}\n",
    "```"
   ]
  },
  {
   "cell_type": "markdown",
   "metadata": {},
   "source": [
    "```{=latex}\n",
    "\\title{PyO3: Python Loves Rust}\n",
    "\\author{Moshe Zadka -- https://cobordism.com}\n",
    "\\date{}\n",
    "\n",
    "\\begin{document}\n",
    "\\begin{titlepage}\n",
    "\\maketitle\n",
    "\\end{titlepage}\n",
    "\n",
    "\\frame{\\titlepage}\n",
    "```"
   ]
  },
  {
   "cell_type": "markdown",
   "metadata": {
    "tags": []
   },
   "source": [
    "```{=latex}\n",
    "\\begin{frame}\n",
    "\\frametitle{Acknowledgement of Country}\n",
    "\n",
    "Belmont (in San Francisco Bay Area Peninsula)\n",
    "\n",
    "Ancestral homeland of the Ramaytush Ohlone people\n",
    "\n",
    "\\end{frame}\n",
    "```"
   ]
  },
  {
   "cell_type": "markdown",
   "metadata": {
    "tags": []
   },
   "source": [
    "I live in Belmont,\n",
    "in the San Francisco Bay Area Peninsula.\n",
    "I wish to acknowledge it as the\n",
    "ancestral homeland\n",
    "of the\n",
    "Ramaytush Ohlone people."
   ]
  },
  {
   "cell_type": "markdown",
   "metadata": {},
   "source": [
    "## Short Intro to Rust\n",
    "\n",
    "Before talking about how to combine Python\n",
    "with rust,\n",
    "I want to chat a little bit about Rust itself.\n",
    "What is it,\n",
    "why does it exist,\n",
    "and how it looks\n",
    "as a language."
   ]
  },
  {
   "cell_type": "markdown",
   "metadata": {
    "tags": []
   },
   "source": [
    "```{=latex}\n",
    "\\begin{frame}\n",
    "\\frametitle{Rust: Intro}\n",
    "\n",
    "\\pause\n",
    "\n",
    "What \\pause\n",
    "\n",
    "Why \\pause\n",
    "\n",
    "How\n",
    "\n",
    "\\end{frame}\n",
    "```"
   ]
  },
  {
   "cell_type": "markdown",
   "metadata": {},
   "source": [
    "### What is Rust?\n",
    "\n",
    "Rust is a\n",
    "*low-level*\n",
    "language.\n",
    "This means that the things the programmers deals with are\n",
    "*close*\n",
    "to the way computers\n",
    "\"really\"\n",
    "work.\n",
    "\n",
    "For example,\n",
    "integer types are defined by bit-size,\n",
    "and correspond to\n",
    "CPU-supported\n",
    "types.\n",
    "While it is tempting to say that this means\n",
    "`a+b`\n",
    "in Rust\n",
    "corresponds to one machine instructions,\n",
    "it does not mean quite that!\n",
    "\n",
    "Rust's compiler's chain is non-trivial.\n",
    "It is useful as a first approximation,\n",
    "though,\n",
    "to treat statements like that as\n",
    "\"kind of\"\n",
    "true.\n",
    "\n",
    "Rust is designed for\n",
    "*zero-cost abstractions*.\n",
    "This means that a lot of the abstractions\n",
    "available at the\n",
    "*language*\n",
    "level\n",
    "are compiled away at runtime.\n",
    "\n",
    "For example,\n",
    "unless explicitly asked for,\n",
    "objects are\n",
    "\"allocated\"\n",
    "on the stack.\n",
    "This means that creating a local object,\n",
    "in Rust,\n",
    "has no runtime cost\n",
    "(though initialization might!)\n",
    "\n",
    "Finaly,\n",
    "Rust is a\n",
    "*memory-safe*\n",
    "language.\n",
    "There are other memory-safe languages,\n",
    "and there are other zero-cost abstraction languages:\n",
    "usually,\n",
    "those are different languages.\n",
    "\n",
    "Memory safety does not mean it is\n",
    "*impossible*\n",
    "to have memory violations in Rust.\n",
    "It does mean that there are only two ways that\n",
    "memory violations can happen:\n",
    "\n",
    "* A bug in the compiler.\n",
    "* Code which is explicitly declared\n",
    "  \"unsafe\".\n",
    "\n",
    "Rust standard library code has quite a bit of code which is marked\n",
    "\"unsafe\",\n",
    "though less than what many assume.\n",
    "This does not make the statement vacuous though:\n",
    "with the\n",
    "(rare)\n",
    "exception of needing to write unsafe code yourself,\n",
    "memory violations will be the results of underlying infrastructure."
   ]
  },
  {
   "cell_type": "markdown",
   "metadata": {
    "tags": []
   },
   "source": [
    "```{=latex}\n",
    "\\begin{frame}\n",
    "\\frametitle{Rust: What?}\n",
    "\n",
    "\\pause\n",
    "\n",
    "Low-level \\pause\n",
    "\n",
    "Zero-cost abstractions \\pause\n",
    "\n",
    "Memory safe!\n",
    "\n",
    "\\end{frame}\n",
    "```"
   ]
  },
  {
   "cell_type": "markdown",
   "metadata": {},
   "source": [
    "### Why is Rust?\n",
    "\n",
    "Why did people create Rust?\n",
    "What problem was not addressed by existing languages?\n",
    "\n",
    "Rust was designed as a language to achieve a\n",
    "*combination*\n",
    "of\n",
    "high-performance code\n",
    "which is memory safe.\n",
    "This is an increasingly important concern in a\n",
    "*networked*\n",
    "world.\n",
    "\n",
    "The quintessential use case for Rust is\n",
    "\"low-level parsing of protocols\".\n",
    "The data which needs to be parsed often comes\n",
    "from untrusted sources,\n",
    "and often needs to be parsed in a performant way.\n",
    "\n",
    "If this sounds a lot like\n",
    "\"what a browser does\",\n",
    "this is no coincidence.\n",
    "Rust originally came from the Mozilla foundation,\n",
    "as a way to improve the\n",
    "Firefox browser.\n",
    "\n",
    "In the modern world,\n",
    "browsers are no longer the only things\n",
    "on which there is both a pressure to be\n",
    "\"safe\"\n",
    "and\n",
    "\"fast\".\n",
    "Even the common microservice architecture,\n",
    "combined with defense-in-depth principles,\n",
    "means microservices need to be able to\n",
    "unpack untrusted data\n",
    "\"fast\"."
   ]
  },
  {
   "cell_type": "markdown",
   "metadata": {
    "tags": []
   },
   "source": [
    "```{=latex}\n",
    "\\begin{frame}\n",
    "\\frametitle{Rust: Why?}\n",
    "\n",
    "\\pause\n",
    "\n",
    "Performance \\pause\n",
    "\n",
    "Safety \\pause\n",
    "\n",
    "\"Low-level parsing\"\n",
    "\n",
    "\\end{frame}\n",
    "```"
   ]
  },
  {
   "cell_type": "markdown",
   "metadata": {},
   "source": [
    "### Counting characters\n",
    "\n",
    "In order to motivate a\n",
    "\"wrapping in Rust\"\n",
    "example,\n",
    "we need a problem.\n",
    "The problem needs to be\n",
    "\n",
    "* Easy enough to solve\n",
    "* Be helped by the ability to write\n",
    "  high-performance loops\n",
    "* Somewhat realistic\n",
    "\n",
    "The toy problem here is\n",
    "\"does a character appear more than X times in a string\".\n",
    "This is something that is not easily amenable to performant\n",
    "regular expressions,\n",
    "and even dedicated\n",
    "`numpy`\n",
    "code can be slower than necessary because often there is no need\n",
    "to scan the entire string.\n",
    "\n",
    "It is not impossible to imagine some combination of Python\n",
    "libraries and tricks that make this possible.\n",
    "However,\n",
    "the\n",
    "*obvious*\n",
    "algorithm is pretty fast if implemented in a low-level language,\n",
    "and makes things more readable.\n",
    "\n",
    "In order to make the problem slightly more interesting,\n",
    "and demonstrate some fun parts of Rust,\n",
    "one twist is added.\n",
    "The algorithm supports reseting the count on a newline\n",
    "(does the character appear more than X times in a line)\n",
    "or on a space\n",
    "(does the character appear more than X times in a word).\n",
    "\n",
    "This is the only nod that will be given to\n",
    "\"realism\".\n",
    "Any more realism will make the example not useful pedagogically."
   ]
  },
  {
   "cell_type": "markdown",
   "metadata": {
    "tags": []
   },
   "source": [
    "```{=latex}\n",
    "\\begin{frame}\n",
    "\\frametitle{Toy Example: Counting}\n",
    "\n",
    "\\pause\n",
    "\n",
    "Character appears more than X times \\pause\n",
    "\n",
    "Optionally, reset counts on spaces/newlines \\pause\n",
    "\n",
    "\"Toy example\" \\pause\n",
    "\n",
    "Just interesting enough\n",
    "\n",
    "\\end{frame}\n",
    "```"
   ]
  },
  {
   "cell_type": "markdown",
   "metadata": {},
   "source": [
    "### Enum\n",
    "\n",
    "Rust supports\n",
    "\"enums\".\n",
    "There are a lot of interesting things\n",
    "that can be done with enums.\n",
    "\n",
    "For our immediate purposes,\n",
    "a three-way enum without any\n",
    "further twirls\n",
    "is used.\n",
    "The enum encodes\n",
    "\"what character resets the count\"."
   ]
  },
  {
   "cell_type": "markdown",
   "metadata": {
    "tags": []
   },
   "source": [
    "```{=latex}\n",
    "\\begin{frame}[fragile]\n",
    "\\frametitle{Rust example: Enum}\n",
    "\n",
    "\\begin{lstlisting}\n",
    "enum Reset {\n",
    "    NewlinesReset,\n",
    "    SpacesReset,\n",
    "    NoReset,\n",
    "}\n",
    "\\end{lstlisting}\n",
    "\\end{frame}\n",
    "```"
   ]
  },
  {
   "cell_type": "markdown",
   "metadata": {},
   "source": [
    "### Struct\n",
    "\n",
    "The next\n",
    "Rust\n",
    "thing to be introduced is a bit more substantial:\n",
    "a struct.\n",
    "A Rust struct is somewhat close to a Python\n",
    "\"dataclass\".\n",
    "Again,\n",
    "there are more sophisticated things that can be done with a\n",
    "struct."
   ]
  },
  {
   "cell_type": "markdown",
   "metadata": {},
   "source": [
    "```{=latex}\n",
    "\\begin{frame}[fragile]\n",
    "\\frametitle{Rust example: Struct}\n",
    "\n",
    "\\begin{lstlisting}\n",
    "struct Counter {\n",
    "    what: char,\n",
    "    min_number: u64,\n",
    "    reset: Reset, \n",
    "}\n",
    "\\end{lstlisting}\n",
    "\\end{frame}\n",
    "```"
   ]
  },
  {
   "cell_type": "markdown",
   "metadata": {},
   "source": [
    "### Implementation\n",
    "\n",
    "*Methods*,\n",
    "in Rust,\n",
    "are added to structs in a separate block:\n",
    "the\n",
    "`impl`\n",
    "block.\n",
    "This has all kinds of reasons which are beyond the\n",
    "current scope.\n",
    "\n",
    "It does make it convenient to break Rust code into slides!\n",
    "In this example,\n",
    "the method calls an external function.\n",
    "This is mostly done in the service of breaking the code up.\n",
    "\n",
    "A more sophisticated use would instruct the Rust compiler\n",
    "to inline the function,\n",
    "to allow readability without any runtime cost."
   ]
  },
  {
   "cell_type": "markdown",
   "metadata": {},
   "source": [
    "```{=latex}\n",
    "\\begin{frame}[fragile]\n",
    "\\frametitle{Rust example: Impl}\n",
    "\n",
    "\\begin{lstlisting}\n",
    "impl Counter {\n",
    "    fn has_count(\n",
    "        &self,\n",
    "        data: &str,\n",
    "    ) -> bool {\n",
    "        has_count(self, data.chars())\n",
    "    }\n",
    "\\end{lstlisting}\n",
    "\\end{frame}\n",
    "```"
   ]
  },
  {
   "cell_type": "markdown",
   "metadata": {},
   "source": [
    "### Function\n",
    "\n",
    "Rust variables,\n",
    "by default,\n",
    "are\n",
    "*constant*.\n",
    "Since the current count has to change,\n",
    "it is declared as a\n",
    "*mutable* variable.\n",
    "\n",
    "The loop goes over the characters,\n",
    "and calls the function\n",
    "`got_count`.\n",
    "Again,\n",
    "this is done in the service of breaking the code into\n",
    "slides.\n",
    "It does show how to send a\n",
    "*mutable*\n",
    "*borrow*\n",
    "*reference*\n",
    "to a function.\n",
    "\n",
    "Even though\n",
    "`current_count`\n",
    "is mutable,\n",
    "both the sending site\n",
    "and the receiving site\n",
    "explicitly mark the reference as mutable as well.\n",
    "This makes it clear which functions might modify\n",
    "a value."
   ]
  },
  {
   "cell_type": "markdown",
   "metadata": {},
   "source": [
    "```{=latex}\n",
    "\\begin{frame}[fragile]\n",
    "\\frametitle{Rust example: Loop}\n",
    "\n",
    "\\begin{lstlisting}\n",
    "fn has_count(cntr: &Counter,\n",
    "      chars: std::str::Chars) -> bool {\n",
    "    let mut current_count : u64 = 0;\n",
    "    for c in chars {\n",
    "        if got_count(cntr, c, &mut current_count) {\n",
    "            return true;\n",
    "        }\n",
    "    }\n",
    "    false\n",
    "}\n",
    "\\end{lstlisting}\n",
    "\\end{frame}\n",
    "```"
   ]
  },
  {
   "cell_type": "markdown",
   "metadata": {},
   "source": [
    "### Counting\n",
    "\n",
    "The\n",
    "`got_count`\n",
    "resets the counter,\n",
    "increments the counter,\n",
    "and then checks it.\n",
    "Rust colon-separated sequence of expressions\n",
    "evaluates to the result of the last expression,\n",
    "in this case,\n",
    "whether the threshold was met."
   ]
  },
  {
   "cell_type": "markdown",
   "metadata": {},
   "source": [
    "```{=latex}\n",
    "\\begin{frame}[fragile]\n",
    "\\frametitle{Rust example: Counting}\n",
    "\n",
    "\\begin{lstlisting}\n",
    "fn got_count(cntr: &Counter, \n",
    "      c: char, current_count: &mut u64) -> bool {\n",
    "    maybe_reset(cntr, c, current_count);\n",
    "    maybe_incr(cntr, c, current_count);\n",
    "    *current_count >= cntr.min_number\n",
    "}\n",
    "\\end{lstlisting}\n",
    "\\end{frame}\n",
    "```"
   ]
  },
  {
   "cell_type": "markdown",
   "metadata": {},
   "source": [
    "### Reset\n",
    "\n",
    "The reset code shows another useful thing in Rust:\n",
    "matching.\n",
    "A complete description of the matching abilities in Rust\n",
    "would be a semester-level class,\n",
    "not two minutes in an unrelated talk,\n",
    "but here we match on a tuple matching\n",
    "one of two options."
   ]
  },
  {
   "cell_type": "markdown",
   "metadata": {},
   "source": [
    "```{=latex}\n",
    "\\begin{frame}[fragile]\n",
    "\\frametitle{Rust example: Reset}\n",
    "\n",
    "\\begin{lstlisting}\n",
    "fn maybe_reset(cntr: &Counter,\n",
    "      c: char, current_count: &mut u64) -> () {\n",
    "    match (c, cntr.reset) {\n",
    "        ('\\n', Reset::NewlinesReset) |\n",
    "        (' ', Reset::SpacesReset)=> {\n",
    "            *current_count = 0;\n",
    "        }\n",
    "        _ => {}\n",
    "    };\n",
    "}\n",
    "\\end{lstlisting}\n",
    "\\end{frame}\n",
    "```"
   ]
  },
  {
   "cell_type": "markdown",
   "metadata": {
    "tags": []
   },
   "source": [
    "### Increment\n",
    "\n",
    "The increment compares the character to the desired one,\n",
    "and if so,\n",
    "increments the count.\n"
   ]
  },
  {
   "cell_type": "markdown",
   "metadata": {
    "tags": []
   },
   "source": [
    "```{=latex}\n",
    "\\begin{frame}[fragile]\n",
    "\\frametitle{Rust example: Increment}\n",
    "\n",
    "\\begin{lstlisting}\n",
    "fn maybe_incr(cntr: &Counter,\n",
    "      c: char, current_count: &mut u64) -> (){\n",
    "    if c == cntr.what {\n",
    "        *current_count += 1;\n",
    "    };\n",
    "}\n",
    "\\end{lstlisting}\n",
    "\\end{frame}\n",
    "```"
   ]
  },
  {
   "cell_type": "markdown",
   "metadata": {},
   "source": [
    "### Wrap-up\n",
    "\n",
    "Note that the code here was optimized for slides.\n",
    "It is not necessarily a best-practice example of Rust code\n",
    "or how to design a good API."
   ]
  },
  {
   "cell_type": "markdown",
   "metadata": {
    "tags": []
   },
   "source": [
    "```{=latex}\n",
    "\\begin{frame}[fragile]\n",
    "\\frametitle{Rust example: disclaimer}\n",
    "\n",
    "\\pause\n",
    "Not necessarily best practices:\n",
    "\n",
    "\\pause\n",
    "Code style\n",
    "\n",
    "\\pause\n",
    "API\n",
    "\n",
    "\\end{frame}\n",
    "```"
   ]
  },
  {
   "cell_type": "markdown",
   "metadata": {
    "tags": []
   },
   "source": [
    "## PyO3"
   ]
  },
  {
   "cell_type": "markdown",
   "metadata": {
    "tags": []
   },
   "source": [
    "In order to wrap the code for Python,\n",
    "we use\n",
    "`PyO3`.\n",
    "The\n",
    "`PyO3`\n",
    "Rust\n",
    "\"crate\"\n",
    "(or library)\n",
    "allows\n",
    "*inlining*\n",
    "the hints for how to wrap Rust code into Python.\n",
    "This makes it easier to modify both together."
   ]
  },
  {
   "cell_type": "markdown",
   "metadata": {
    "tags": []
   },
   "source": [
    "```{=latex}\n",
    "\\begin{frame}[fragile]\n",
    "\\frametitle{PyO3}\n",
    "\n",
    "Inline \\pause\n",
    "\n",
    "Modify together\n",
    "\n",
    "\\end{frame}\n",
    "```"
   ]
  },
  {
   "cell_type": "markdown",
   "metadata": {
    "tags": []
   },
   "source": [
    "### Include\n",
    "\n",
    "The first step is to\n",
    "*include*\n",
    "the\n",
    "`pyo3`\n",
    "crate primitives."
   ]
  },
  {
   "cell_type": "markdown",
   "metadata": {
    "tags": []
   },
   "source": [
    "```{=latex}\n",
    "\\begin{frame}[fragile]\n",
    "\\frametitle{PyO3 example: Include}\n",
    "\n",
    "\\begin{lstlisting}\n",
    "use pyo3::prelude::*;\n",
    "\\end{lstlisting}\n",
    "\\end{frame}\n",
    "```"
   ]
  },
  {
   "cell_type": "markdown",
   "metadata": {
    "tags": []
   },
   "source": [
    "### Wrap enum\n",
    "\n",
    "The\n",
    "`enum`\n",
    "needs to be wrapped.\n",
    "The\n",
    "`derive`\n",
    "clauses are necessary for\n",
    "wrapping the enum for\n",
    "PyO3,\n",
    "since they make the class copyable and clonable,\n",
    "which makes them easier to use from Python."
   ]
  },
  {
   "cell_type": "markdown",
   "metadata": {
    "tags": []
   },
   "source": [
    "```{=latex}\n",
    "\\begin{frame}[fragile]\n",
    "\\frametitle{PyO3 example: Wrap enum}\n",
    "\n",
    "\\begin{lstlisting}\n",
    "#[pyclass]\n",
    "#[derive(Clone)]\n",
    "#[derive(Copy)]\n",
    "enum Reset {\n",
    "    /* ... */\n",
    "}\n",
    "\\end{lstlisting}\n",
    "\\end{frame}\n",
    "```"
   ]
  },
  {
   "cell_type": "markdown",
   "metadata": {
    "tags": []
   },
   "source": [
    "### Wrap struct\n",
    "\n",
    "Similarly,\n",
    "the\n",
    "`struct`\n",
    "is wrapped in the same way.\n",
    "These call\n",
    "\"macros\"\n",
    "in Rust which generate the needed interface bits."
   ]
  },
  {
   "cell_type": "markdown",
   "metadata": {
    "tags": []
   },
   "source": [
    "```{=latex}\n",
    "\\begin{frame}[fragile]\n",
    "\\frametitle{PyO3 example: Wrap struct}\n",
    "\n",
    "\\begin{lstlisting}\n",
    "#[pyclass]\n",
    "struct Counter {\n",
    "    /* ... */\n",
    "}\n",
    "\\end{lstlisting}\n",
    "\\end{frame}\n",
    "```"
   ]
  },
  {
   "cell_type": "markdown",
   "metadata": {
    "tags": []
   },
   "source": [
    "### Wrap impl\n",
    "\n",
    "Wrapping the\n",
    "`impl`\n",
    "is more interesting.\n",
    "A new method,\n",
    "`new`\n",
    "is added.\n",
    "This method is marked as\n",
    "`#[new]`,\n",
    "which lets PyO3 know how to expose a constructor\n",
    "for the built-in object."
   ]
  },
  {
   "cell_type": "markdown",
   "metadata": {
    "tags": []
   },
   "source": [
    "```{=latex}\n",
    "\\begin{frame}[fragile]\n",
    "\\frametitle{PyO3 example: Wrap impl}\n",
    "\n",
    "\\begin{lstlisting}\n",
    "#[pymethods]\n",
    "impl Counter {\n",
    "    #[new]\n",
    "    fn new(what: char, min_number: u64,\n",
    "          reset: Reset) -> Self {\n",
    "        Counter{what: what,\n",
    "          min_number: min_number, reset: reset}\n",
    "    }\n",
    "    /* ... */\n",
    "}\n",
    "\\end{lstlisting}\n",
    "\\end{frame}\n",
    "```"
   ]
  },
  {
   "cell_type": "markdown",
   "metadata": {
    "tags": []
   },
   "source": [
    "### Define module\n",
    "\n",
    "Finally,\n",
    "a function that initializes the module needs to be defined.\n",
    "This function has a specific signature,\n",
    "must be named the same as the module,\n",
    "and decorated with\n",
    "`#[pymodule]`.\n",
    "\n",
    "The\n",
    "`?`\n",
    "show that this function can\n",
    "*fail*\n",
    "(for example, if the class was not appropriately configured).\n",
    "The\n",
    "`PyResult`\n",
    "is translated into a Python exception at\n",
    "`import`\n",
    "time."
   ]
  },
  {
   "cell_type": "markdown",
   "metadata": {
    "tags": []
   },
   "source": [
    "```{=latex}\n",
    "\\begin{frame}[fragile]\n",
    "\\frametitle{PyO3 example: Define module}\n",
    "\n",
    "\\begin{lstlisting}\n",
    "#[pymodule]\n",
    "fn counter(_py: Python, m: &PyModule\n",
    ") -> PyResult<()> {\n",
    "    m.add_class::<Counter>()?;\n",
    "    m.add_class::<Reset>()?;\n",
    "    Ok(())\n",
    "}\n",
    "\\end{lstlisting}\n",
    "\\end{frame}\n",
    "```"
   ]
  },
  {
   "cell_type": "markdown",
   "metadata": {
    "tags": []
   },
   "source": [
    "### Maturin develop\n",
    "\n",
    "For quick checking,\n",
    "`maturin develop`\n",
    "will build and install the library\n",
    "into the current virtual environment.\n",
    "This helps iterate quickly."
   ]
  },
  {
   "cell_type": "markdown",
   "metadata": {
    "tags": []
   },
   "source": [
    "```{=latex}\n",
    "\\begin{frame}[fragile]\n",
    "\\frametitle{Maturin develop}\n",
    "\n",
    "\\begin{lstlisting}\n",
    "(venv)$ maturin develop\n",
    "\\end{lstlisting}\n",
    "\\end{frame}\n",
    "```"
   ]
  },
  {
   "cell_type": "markdown",
   "metadata": {
    "tags": []
   },
   "source": [
    "### Maturin build\n",
    "\n",
    "The\n",
    "`maturin build`\n",
    "command builds a manylinux wheel,\n",
    "which can be uploaded to\n",
    "`PyPI`.\n",
    "Remember that the wheel is specific to the CPU architecture."
   ]
  },
  {
   "cell_type": "markdown",
   "metadata": {
    "tags": []
   },
   "source": [
    "```{=latex}\n",
    "\\begin{frame}[fragile]\n",
    "\\frametitle{Maturin build}\n",
    "\n",
    "\\begin{lstlisting}\n",
    "(venv)$ maturin build\n",
    "\\end{lstlisting}\n",
    "\\end{frame}\n",
    "```"
   ]
  },
  {
   "cell_type": "markdown",
   "metadata": {},
   "source": [
    "## Python\n",
    "\n",
    "Using the library from Python\n",
    "is the nice part.\n",
    "There is nothing to indicate a difference\n",
    "between this and writing the code in Python.\n",
    "\n",
    "One useful aspect of this is that if you are optimizing\n",
    "an existing library in Python,\n",
    "which already has unit tests,\n",
    "you can use the Python unit tests as the tests for the\n",
    "Rust library."
   ]
  },
  {
   "cell_type": "markdown",
   "metadata": {},
   "source": [
    "```{=latex}\n",
    "\\begin{frame}[fragile]\n",
    "\\frametitle{Python}\n",
    "\n",
    "Use!\n",
    "\n",
    "\\end{frame}\n",
    "```"
   ]
  },
  {
   "cell_type": "markdown",
   "metadata": {
    "tags": []
   },
   "source": [
    "### Import\n",
    "\n",
    "Whether this is because\n",
    "`maturin develop`\n",
    "installed it\n",
    "or\n",
    "`pip install`\n",
    "installed a wheel,\n",
    "importing the library is done with\n",
    "`import`."
   ]
  },
  {
   "cell_type": "markdown",
   "metadata": {
    "tags": []
   },
   "source": [
    "```{=latex}\n",
    "\\begin{frame}[fragile]\n",
    "\\frametitle{Import}\n",
    "```"
   ]
  },
  {
   "cell_type": "code",
   "execution_count": 1,
   "metadata": {},
   "outputs": [],
   "source": [
    "import counter"
   ]
  },
  {
   "cell_type": "markdown",
   "metadata": {
    "tags": []
   },
   "source": [
    "```{=latex}\n",
    "\\end{frame}\n",
    "```"
   ]
  },
  {
   "cell_type": "markdown",
   "metadata": {
    "tags": []
   },
   "source": [
    "### Construct\n",
    "\n",
    "The constructor was defined exactly so that the object could be built from\n",
    "Python.\n",
    "Note that this is not always the case:\n",
    "sometimes objects are only returned from more sophisticated functions."
   ]
  },
  {
   "cell_type": "markdown",
   "metadata": {
    "tags": []
   },
   "source": [
    "```{=latex}\n",
    "\\begin{frame}[fragile]\n",
    "\\frametitle{Constructor}\n",
    "```"
   ]
  },
  {
   "cell_type": "code",
   "execution_count": 5,
   "metadata": {},
   "outputs": [],
   "source": [
    "cntr = counter.Counter(\n",
    "    'c',\n",
    "    3,\n",
    "    counter.Reset.NewlinesReset,\n",
    ")"
   ]
  },
  {
   "cell_type": "markdown",
   "metadata": {
    "tags": []
   },
   "source": [
    "```{=latex}\n",
    "\\end{frame}\n",
    "```"
   ]
  },
  {
   "cell_type": "markdown",
   "metadata": {
    "tags": []
   },
   "source": [
    "### Call\n",
    "\n",
    "The final pay-off is now here:\n",
    "check whether this string has at least three\n",
    "\"c\"\n",
    "characters:"
   ]
  },
  {
   "cell_type": "markdown",
   "metadata": {
    "tags": []
   },
   "source": [
    "```{=latex}\n",
    "\\begin{frame}[fragile]\n",
    "\\frametitle{Call}\n",
    "```"
   ]
  },
  {
   "cell_type": "code",
   "execution_count": 3,
   "metadata": {},
   "outputs": [
    {
     "data": {
      "text/plain": [
       "True"
      ]
     },
     "execution_count": 3,
     "metadata": {},
     "output_type": "execute_result"
    }
   ],
   "source": [
    "cntr.has_count(\"hello-c-c-c-goodbye\")"
   ]
  },
  {
   "cell_type": "markdown",
   "metadata": {
    "tags": []
   },
   "source": [
    "```{=latex}\n",
    "\\end{frame}\n",
    "```"
   ]
  },
  {
   "cell_type": "markdown",
   "metadata": {
    "tags": []
   },
   "source": [
    "### Call\n",
    "\n",
    "Adding a newline causes the rest to happen,\n",
    "and there will not be three\n",
    "\"c\"\n",
    "characters without an intervening newline:"
   ]
  },
  {
   "cell_type": "markdown",
   "metadata": {
    "tags": []
   },
   "source": [
    "```{=latex}\n",
    "\\begin{frame}[fragile]\n",
    "\\frametitle{Call}\n",
    "```"
   ]
  },
  {
   "cell_type": "code",
   "execution_count": 6,
   "metadata": {},
   "outputs": [
    {
     "data": {
      "text/plain": [
       "False"
      ]
     },
     "execution_count": 6,
     "metadata": {},
     "output_type": "execute_result"
    }
   ],
   "source": [
    "cntr.has_count(\"hello-c-c-\\nc-goodbye\")"
   ]
  },
  {
   "cell_type": "markdown",
   "metadata": {
    "tags": []
   },
   "source": [
    "```{=latex}\n",
    "\\end{frame}\n",
    "```"
   ]
  },
  {
   "cell_type": "markdown",
   "metadata": {},
   "source": [
    "## Conclusion\n",
    "\n",
    "Why is this talk useful?\n",
    "Why am I speaking about this?"
   ]
  },
  {
   "cell_type": "markdown",
   "metadata": {},
   "source": [
    "```{=latex}\n",
    "\\begin{frame}[fragile]\n",
    "\\frametitle{Take-aways}\n",
    "\n",
    "Why?\n",
    "\n",
    "\\end{frame}\n",
    "```"
   ]
  },
  {
   "cell_type": "markdown",
   "metadata": {},
   "source": [
    "### Rust and Python is easy\n",
    "\n",
    "My goal is to convince you that combining Rust and Python is easy.\n",
    "I wrote little code to\n",
    "\"glue\"\n",
    "them."
   ]
  },
  {
   "cell_type": "markdown",
   "metadata": {},
   "source": [
    "```{=latex}\n",
    "\\begin{frame}[fragile]\n",
    "\\frametitle{Rust + Python}\n",
    "\n",
    "Easy!\n",
    "\n",
    "\\end{frame}\n",
    "```"
   ]
  },
  {
   "cell_type": "markdown",
   "metadata": {},
   "source": [
    "### Use each one for its purposes\n",
    "\n",
    "Rust and Python have complementary strengths and weaknesses.\n",
    "\n",
    "Rust is great for high-performance, safe code.\n",
    "Rust has a steep learning curve and can be awkward for quickly prototyping\n",
    "a solution.\n",
    "\n",
    "Python is easy to get started with, and supports incredibly tight iteration loops.\n",
    "Python does have a \"speed cap\":\n",
    "beyond a certain level,\n",
    "it is harder to get better performance\n",
    "from Python."
   ]
  },
  {
   "cell_type": "markdown",
   "metadata": {},
   "source": [
    "```{=latex}\n",
    "\\begin{frame}[fragile]\n",
    "\\frametitle{Differences}\n",
    "\n",
    "\\pause\n",
    "\n",
    "Rust: \\pause High-performance, \\pause safe, \\pause learning curve, \\pause awkward prototyping\n",
    "\n",
    "\\pause\n",
    "\n",
    "Python: \\pause Easy, \\pause tight iteration, \\pause Speed cap\n",
    "\n",
    "\\end{frame}\n",
    "```"
   ]
  },
  {
   "cell_type": "markdown",
   "metadata": {},
   "source": [
    "Combining them is perfect.\n",
    "Prototype in Python,\n",
    "and move performance bottlenecks to Rust."
   ]
  },
  {
   "cell_type": "markdown",
   "metadata": {},
   "source": [
    "```{=latex}\n",
    "\\begin{frame}[fragile]\n",
    "\\frametitle{Combined}\n",
    "\n",
    "\\pause\n",
    "\n",
    "Prototype in Python \\pause\n",
    "\n",
    "Move perf bottlenecks to Rust \\pause\n",
    "\n",
    "\\end{frame}\n",
    "```"
   ]
  },
  {
   "cell_type": "markdown",
   "metadata": {},
   "source": [
    "With\n",
    "`maturin`,\n",
    "your development and deployment pipelines are\n",
    "easier to make.\n",
    "Develop,\n",
    "build,\n",
    "and enjoy the combo!"
   ]
  },
  {
   "cell_type": "markdown",
   "metadata": {},
   "source": [
    "```{=latex}\n",
    "\\begin{frame}[fragile]\n",
    "\\frametitle{Stronger together}\n",
    "\n",
    "\\pause\n",
    "\n",
    "Development \\pause\n",
    "\n",
    "Deployment \\pause\n",
    "\n",
    "Enjoy!\n",
    "\n",
    "\n",
    "\\end{frame}\n",
    "```"
   ]
  },
  {
   "cell_type": "markdown",
   "metadata": {},
   "source": [
    "```{=latex}\n",
    "\\end{document}\n",
    "```"
   ]
  }
 ],
 "metadata": {
  "kernelspec": {
   "display_name": "counter-demo",
   "language": "python",
   "name": "counter-demo-venv"
  },
  "language_info": {
   "codemirror_mode": {
    "name": "ipython",
    "version": 3
   },
   "file_extension": ".py",
   "mimetype": "text/x-python",
   "name": "python",
   "nbconvert_exporter": "python",
   "pygments_lexer": "ipython3",
   "version": "3.10.7"
  },
  "toc-autonumbering": false
 },
 "nbformat": 4,
 "nbformat_minor": 4
}
