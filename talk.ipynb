{
 "cells": [
  {
   "cell_type": "markdown",
   "metadata": {},
   "source": [
    "```{=latex}\n",
    "\\usepackage{hyperref}\n",
    "\\usepackage{graphicx}\n",
    "\\usepackage{listings}\n",
    "\\usepackage{textcomp}\n",
    "\\usepackage{fancyvrb}\n",
    "\n",
    "\\newcommand{\\passthrough}[1]{\\lstset{mathescape=false}#1\\lstset{mathescape=true}}\n",
    "\\newcommand{\\tightlist}{}\n",
    "```"
   ]
  },
  {
   "cell_type": "markdown",
   "metadata": {},
   "source": [
    "```{=latex}\n",
    "\\title{PyO3: Python Loves Rust}\n",
    "\\author{Moshe Zadka -- https://cobordism.com}\n",
    "\\date{}\n",
    "\n",
    "\\begin{document}\n",
    "\\begin{titlepage}\n",
    "\\maketitle\n",
    "\\end{titlepage}\n",
    "\n",
    "\\frame{\\titlepage}\n",
    "```"
   ]
  },
  {
   "cell_type": "markdown",
   "metadata": {
    "tags": []
   },
   "source": [
    "```{=latex}\n",
    "\\begin{frame}\n",
    "\\frametitle{Acknowledgement of Country}\n",
    "\n",
    "Belmont (in San Francisco Bay Area Peninsula)\n",
    "\n",
    "Ancestral homeland of the Ramaytush Ohlone people\n",
    "\n",
    "\\end{frame}\n",
    "```"
   ]
  },
  {
   "cell_type": "markdown",
   "metadata": {
    "tags": []
   },
   "source": [
    "I live in Belmont,\n",
    "in the San Francisco Bay Area Peninsula.\n",
    "I wish to acknowledge it as the\n",
    "ancestral homeland\n",
    "of the\n",
    "Ramaytush Ohlone people."
   ]
  },
  {
   "cell_type": "markdown",
   "metadata": {},
   "source": [
    "## Short Intro to Rust"
   ]
  },
  {
   "cell_type": "markdown",
   "metadata": {
    "tags": []
   },
   "source": [
    "```{=latex}\n",
    "\\begin{frame}\n",
    "\\frametitle{Rust: Intro}\n",
    "\n",
    "\\pause\n",
    "\n",
    "What \\pause\n",
    "\n",
    "Why \\pause\n",
    "\n",
    "How\n",
    "\n",
    "\\end{frame}\n",
    "```"
   ]
  },
  {
   "cell_type": "markdown",
   "metadata": {},
   "source": [
    "### What is Rust?"
   ]
  },
  {
   "cell_type": "markdown",
   "metadata": {
    "tags": []
   },
   "source": [
    "```{=latex}\n",
    "\\begin{frame}\n",
    "\\frametitle{Rust: What?}\n",
    "\n",
    "\\pause\n",
    "\n",
    "Low-level \\pause\n",
    "\n",
    "Zero-cost abstractions \\pause\n",
    "\n",
    "Memory safe!\n",
    "\n",
    "\\end{frame}\n",
    "```"
   ]
  },
  {
   "cell_type": "markdown",
   "metadata": {},
   "source": [
    "### Why is Rust?"
   ]
  },
  {
   "cell_type": "markdown",
   "metadata": {
    "tags": []
   },
   "source": [
    "```{=latex}\n",
    "\\begin{frame}\n",
    "\\frametitle{Rust: Why?}\n",
    "\n",
    "\\pause\n",
    "\n",
    "Performance \\pause\n",
    "\n",
    "Safety \\pause\n",
    "\n",
    "\"Low-level parsing\"\n",
    "\n",
    "\\end{frame}\n",
    "```"
   ]
  },
  {
   "cell_type": "markdown",
   "metadata": {},
   "source": [
    "### Counting characters"
   ]
  },
  {
   "cell_type": "markdown",
   "metadata": {
    "tags": []
   },
   "source": [
    "```{=latex}\n",
    "\\begin{frame}\n",
    "\\frametitle{Toy Example: Counting}\n",
    "\n",
    "\\pause\n",
    "\n",
    "Check whether character appears more than X times \\pause\n",
    "\n",
    "Optionally, reset counts on spaces/newlines \\pause\n",
    "\n",
    "\"Toy example\" \\pause\n",
    "\n",
    "Just interesting enough\n",
    "\n",
    "\\end{frame}\n",
    "```"
   ]
  },
  {
   "cell_type": "markdown",
   "metadata": {},
   "source": [
    "### Enum"
   ]
  },
  {
   "cell_type": "markdown",
   "metadata": {
    "tags": []
   },
   "source": [
    "```{=latex}\n",
    "\\begin{frame}[fragile]\n",
    "\\frametitle{Rust example: Enum}\n",
    "\n",
    "\\begin{lstlisting}\n",
    "enum Reset {\n",
    "    NewlinesReset,\n",
    "    SpacesReset,\n",
    "    NoReset,\n",
    "}\n",
    "\\end{lstlisting}\n",
    "\\end{frame}\n",
    "```"
   ]
  },
  {
   "cell_type": "markdown",
   "metadata": {},
   "source": [
    "### Struct\n",
    "\n",
    "```{=latex}\n",
    "\\begin{frame}[fragile]\n",
    "\\frametitle{Rust example: Struct}\n",
    "\n",
    "\\begin{lstlisting}\n",
    "struct Counter {\n",
    "    what: char,\n",
    "    min_number: u64,\n",
    "    reset: Reset, \n",
    "}\n",
    "\\end{lstlisting}\n",
    "\\end{frame}\n",
    "```"
   ]
  },
  {
   "cell_type": "markdown",
   "metadata": {},
   "source": [
    "### Implementation\n",
    "\n",
    "```{=latex}\n",
    "\\begin{frame}[fragile]\n",
    "\\frametitle{Rust example: Impl}\n",
    "\n",
    "\\begin{lstlisting}\n",
    "impl Counter {\n",
    "    fn has_count(\n",
    "        &self,\n",
    "        data: &str,\n",
    "    ) -> bool {\n",
    "        has_count(self, data.chars())\n",
    "    }\n",
    "\\end{lstlisting}\n",
    "\\end{frame}\n",
    "```"
   ]
  },
  {
   "cell_type": "markdown",
   "metadata": {},
   "source": [
    "### Function\n",
    "\n",
    "```{=latex}\n",
    "\\begin{frame}[fragile]\n",
    "\\frametitle{Rust example: Loop}\n",
    "\n",
    "\\begin{lstlisting}\n",
    "fn has_count(cntr: &Counter,\n",
    "      chars: std::str::Chars) -> bool {\n",
    "    let mut current_count : u64 = 0;\n",
    "    for c in chars {\n",
    "        if got_count(cntr, c, &mut current_count) {\n",
    "            return true;\n",
    "        }\n",
    "    }\n",
    "    false\n",
    "}\n",
    "\\end{lstlisting}\n",
    "\\end{frame}\n",
    "```"
   ]
  },
  {
   "cell_type": "markdown",
   "metadata": {},
   "source": [
    "### Counting\n",
    "\n",
    "```{=latex}\n",
    "\\begin{frame}[fragile]\n",
    "\\frametitle{Rust example: Counting}\n",
    "\n",
    "\\begin{lstlisting}\n",
    "fn got_count(cntr: &Counter, \n",
    "      c: char, current_count: &mut u64) -> bool {\n",
    "    if *current_count >= cntr.min_number {\n",
    "        return true;\n",
    "    }\n",
    "    maybe_reset(cntr, c, current_count);\n",
    "    maybe_incr(cntr, c, current_count);\n",
    "    false\n",
    "}\n",
    "\\end{lstlisting}\n",
    "\\end{frame}\n",
    "```"
   ]
  },
  {
   "cell_type": "markdown",
   "metadata": {},
   "source": [
    "### Reset\n",
    "\n",
    "```{=latex}\n",
    "\\begin{frame}[fragile]\n",
    "\\frametitle{Rust example: Reset}\n",
    "\n",
    "\\begin{lstlisting}\n",
    "fn maybe_reset(cntr: &Counter,\n",
    "      c: char, current_count: &mut u64) -> () {\n",
    "    match (c, cntr.reset) {\n",
    "        ('\\n', Reset::NewlinesReset) |\n",
    "        (' ', Reset::SpacesReset)=> {\n",
    "            *current_count = 0;\n",
    "        }\n",
    "        _ => {}\n",
    "    };\n",
    "}\n",
    "\\end{lstlisting}\n",
    "\\end{frame}\n",
    "```"
   ]
  },
  {
   "cell_type": "markdown",
   "metadata": {
    "tags": []
   },
   "source": [
    "### Increment\n",
    "\n",
    "```{=latex}\n",
    "\\begin{frame}[fragile]\n",
    "\\frametitle{Rust example: Increment}\n",
    "\n",
    "\\begin{lstlisting}\n",
    "fn maybe_incr(cntr: &Counter,\n",
    "      c: char, current_count: &mut u64) -> (){\n",
    "    if c == cntr.what {\n",
    "        *current_count += 1;\n",
    "    };\n",
    "}\n",
    "\\end{lstlisting}\n",
    "\\end{frame}\n",
    "```"
   ]
  },
  {
   "cell_type": "markdown",
   "metadata": {
    "tags": []
   },
   "source": [
    "## PyO3"
   ]
  },
  {
   "cell_type": "markdown",
   "metadata": {
    "tags": []
   },
   "source": [
    "\n",
    "```{=latex}\n",
    "\\begin{frame}[fragile]\n",
    "\\frametitle{PyO3}\n",
    "\n",
    "Inline \\pause\n",
    "\n",
    "Modify together\n",
    "\n",
    "\\end{frame}\n",
    "```"
   ]
  },
  {
   "cell_type": "markdown",
   "metadata": {
    "tags": []
   },
   "source": [
    "### Include\n",
    "\n",
    "```{=latex}\n",
    "\\begin{frame}[fragile]\n",
    "\\frametitle{PyO3 example: Include}\n",
    "\n",
    "\\begin{lstlisting}\n",
    "use pyo3::prelude::*;\n",
    "\\end{lstlisting}\n",
    "\\end{frame}\n",
    "```"
   ]
  },
  {
   "cell_type": "markdown",
   "metadata": {
    "tags": []
   },
   "source": [
    "### Wrap enum\n",
    "\n",
    "```{=latex}\n",
    "\\begin{frame}[fragile]\n",
    "\\frametitle{PyO3 example: Wrap enum}\n",
    "\n",
    "\\begin{lstlisting}\n",
    "#[pyclass]\n",
    "#[derive(Clone)]\n",
    "#[derive(Copy)]\n",
    "enum Reset {\n",
    "    /* ... */\n",
    "}\n",
    "\\end{lstlisting}\n",
    "\\end{frame}\n",
    "```"
   ]
  },
  {
   "cell_type": "markdown",
   "metadata": {
    "tags": []
   },
   "source": [
    "### Wrap struct\n",
    "\n",
    "```{=latex}\n",
    "\\begin{frame}[fragile]\n",
    "\\frametitle{PyO3 example: Wrap struct}\n",
    "\n",
    "\\begin{lstlisting}\n",
    "#[pyclass]\n",
    "struct Counter {\n",
    "    /* ... */\n",
    "}\n",
    "\\end{lstlisting}\n",
    "\\end{frame}\n",
    "```"
   ]
  },
  {
   "cell_type": "markdown",
   "metadata": {
    "tags": []
   },
   "source": [
    "### Wrap impl\n",
    "\n",
    "```{=latex}\n",
    "\\begin{frame}[fragile]\n",
    "\\frametitle{PyO3 example: Wrap impl}\n",
    "\n",
    "\\begin{lstlisting}\n",
    "#[pymethods]\n",
    "impl Counter {\n",
    "    #[new]\n",
    "    fn new(what: char, min_number: u64,\n",
    "          reset: Reset) -> Self {\n",
    "        Counter{what: what,\n",
    "          min_number: min_number, reset: reset}\n",
    "    }\n",
    "    /* ... */\n",
    "}\n",
    "\\end{lstlisting}\n",
    "\\end{frame}\n",
    "```"
   ]
  },
  {
   "cell_type": "markdown",
   "metadata": {
    "tags": []
   },
   "source": [
    "### Define module\n",
    "\n",
    "```{=latex}\n",
    "\\begin{frame}[fragile]\n",
    "\\frametitle{PyO3 example: Define module}\n",
    "\n",
    "\\begin{lstlisting}\n",
    "#[pymodule]\n",
    "fn counter(_py: Python, m: &PyModule\n",
    ") -> PyResult<()> {\n",
    "    m.add_class::<Counter>()?;\n",
    "    m.add_class::<Reset>()?;\n",
    "    Ok(())\n",
    "}\n",
    "\\end{lstlisting}\n",
    "\\end{frame}\n",
    "```"
   ]
  },
  {
   "cell_type": "markdown",
   "metadata": {
    "tags": []
   },
   "source": [
    "### Maturin develop\n",
    "\n",
    "```{=latex}\n",
    "\\begin{frame}[fragile]\n",
    "\\frametitle{Maturin develop}\n",
    "\n",
    "\\begin{lstlisting}\n",
    "(venv)$ maturin develop\n",
    "\\end{lstlisting}\n",
    "\\end{frame}\n",
    "```"
   ]
  },
  {
   "cell_type": "markdown",
   "metadata": {
    "tags": []
   },
   "source": [
    "### Maturin develop\n",
    "\n",
    "```{=latex}\n",
    "\\begin{frame}[fragile]\n",
    "\\frametitle{Maturin build}\n",
    "\n",
    "\\begin{lstlisting}\n",
    "(venv)$ maturin build\n",
    "\\end{lstlisting}\n",
    "\\end{frame}\n",
    "```"
   ]
  },
  {
   "cell_type": "markdown",
   "metadata": {},
   "source": [
    "## Python\n",
    "\n",
    "```{=latex}\n",
    "\\begin{frame}[fragile]\n",
    "\\frametitle{Python}\n",
    "\n",
    "Use!\n",
    "\n",
    "\\end{frame}\n",
    "```"
   ]
  },
  {
   "cell_type": "markdown",
   "metadata": {
    "tags": []
   },
   "source": [
    "### Import\n",
    "\n",
    "```{=latex}\n",
    "\\begin{frame}[fragile]\n",
    "\\frametitle{Import}\n",
    "```"
   ]
  },
  {
   "cell_type": "code",
   "execution_count": 1,
   "metadata": {},
   "outputs": [],
   "source": [
    "import counter"
   ]
  },
  {
   "cell_type": "markdown",
   "metadata": {
    "tags": []
   },
   "source": [
    "```{=latex}\n",
    "\\end{frame}\n",
    "```"
   ]
  },
  {
   "cell_type": "markdown",
   "metadata": {
    "tags": []
   },
   "source": [
    "### Construct\n",
    "\n",
    "```{=latex}\n",
    "\\begin{frame}[fragile]\n",
    "\\frametitle{Constructor}\n",
    "```"
   ]
  },
  {
   "cell_type": "code",
   "execution_count": 5,
   "metadata": {},
   "outputs": [],
   "source": [
    "cntr = counter.Counter(\n",
    "    'c',\n",
    "    3,\n",
    "    counter.Reset.NewlinesReset,\n",
    ")"
   ]
  },
  {
   "cell_type": "markdown",
   "metadata": {
    "tags": []
   },
   "source": [
    "```{=latex}\n",
    "\\end{frame}\n",
    "```"
   ]
  },
  {
   "cell_type": "markdown",
   "metadata": {
    "tags": []
   },
   "source": [
    "### Call\n",
    "\n",
    "```{=latex}\n",
    "\\begin{frame}[fragile]\n",
    "\\frametitle{Call}\n",
    "```"
   ]
  },
  {
   "cell_type": "code",
   "execution_count": 3,
   "metadata": {},
   "outputs": [
    {
     "data": {
      "text/plain": [
       "True"
      ]
     },
     "execution_count": 3,
     "metadata": {},
     "output_type": "execute_result"
    }
   ],
   "source": [
    "cntr.has_count(\"hello-c-c-c-goodbye\")"
   ]
  },
  {
   "cell_type": "markdown",
   "metadata": {
    "tags": []
   },
   "source": [
    "```{=latex}\n",
    "\\end{frame}\n",
    "```"
   ]
  },
  {
   "cell_type": "markdown",
   "metadata": {
    "tags": []
   },
   "source": [
    "### Call\n",
    "\n",
    "```{=latex}\n",
    "\\begin{frame}[fragile]\n",
    "\\frametitle{Call}\n",
    "```"
   ]
  },
  {
   "cell_type": "code",
   "execution_count": 4,
   "metadata": {},
   "outputs": [
    {
     "data": {
      "text/plain": [
       "False"
      ]
     },
     "execution_count": 4,
     "metadata": {},
     "output_type": "execute_result"
    }
   ],
   "source": [
    "cntr.has_count(\"hello-c-c-\\nc-goodbye\")"
   ]
  },
  {
   "cell_type": "markdown",
   "metadata": {
    "tags": []
   },
   "source": [
    "```{=latex}\n",
    "\\end{frame}\n",
    "```"
   ]
  },
  {
   "cell_type": "markdown",
   "metadata": {},
   "source": [
    "## Conclusion"
   ]
  },
  {
   "cell_type": "markdown",
   "metadata": {},
   "source": [
    "```{=latex}\n",
    "\\begin{frame}[fragile]\n",
    "\\frametitle{Take-aways}\n",
    "\n",
    "Why?\n",
    "\n",
    "\\end{frame}\n",
    "```"
   ]
  },
  {
   "cell_type": "markdown",
   "metadata": {},
   "source": [
    "### Rust and Python is easy"
   ]
  },
  {
   "cell_type": "markdown",
   "metadata": {},
   "source": [
    "```{=latex}\n",
    "\\begin{frame}[fragile]\n",
    "\\frametitle{Rust + Python}\n",
    "\n",
    "Easy!\n",
    "\n",
    "\\end{frame}\n",
    "```"
   ]
  },
  {
   "cell_type": "markdown",
   "metadata": {},
   "source": [
    "### Use each one for its purposes"
   ]
  },
  {
   "cell_type": "markdown",
   "metadata": {},
   "source": [
    "```{=latex}\n",
    "\\begin{frame}[fragile]\n",
    "\\frametitle{Differences}\n",
    "\n",
    "\\pause\n",
    "\n",
    "Rust: \\pause High-performance, \\pause safe, \\pause learning curve, \\pause awkward prototyping\n",
    "\n",
    "\\pause\n",
    "\n",
    "Python: \\pause Easy, \\pause tight iteration, \\pause Speed cap\n",
    "\n",
    "\\end{frame}\n",
    "```"
   ]
  },
  {
   "cell_type": "markdown",
   "metadata": {},
   "source": [
    "```{=latex}\n",
    "\\begin{frame}[fragile]\n",
    "\\frametitle{Combined}\n",
    "\n",
    "\\pause\n",
    "\n",
    "Prototype in Python \\pause\n",
    "\n",
    "Move perf bottlenecks to Rust \\pause\n",
    "\n",
    "\\end{frame}\n",
    "```"
   ]
  },
  {
   "cell_type": "markdown",
   "metadata": {},
   "source": [
    "```{=latex}\n",
    "\\begin{frame}[fragile]\n",
    "\\frametitle{Stronger together}\n",
    "\n",
    "\\pause\n",
    "\n",
    "Deployment \\pause\n",
    "\n",
    "Development \\pause\n",
    "\n",
    "Enjoy!\n",
    "\n",
    "\n",
    "\\end{frame}\n",
    "```"
   ]
  },
  {
   "cell_type": "markdown",
   "metadata": {},
   "source": [
    "```{=latex}\n",
    "\\end{document}\n",
    "```"
   ]
  }
 ],
 "metadata": {
  "kernelspec": {
   "display_name": "counter-demo",
   "language": "python",
   "name": "counter-demo-venv"
  },
  "language_info": {
   "codemirror_mode": {
    "name": "ipython",
    "version": 3
   },
   "file_extension": ".py",
   "mimetype": "text/x-python",
   "name": "python",
   "nbconvert_exporter": "python",
   "pygments_lexer": "ipython3",
   "version": "3.10.7"
  },
  "toc-autonumbering": false
 },
 "nbformat": 4,
 "nbformat_minor": 4
}
