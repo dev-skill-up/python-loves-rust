{
 "cells": [
  {
   "cell_type": "markdown",
   "metadata": {},
   "source": [
    "```{=latex}\n",
    "\\usepackage{hyperref}\n",
    "\\usepackage{graphicx}\n",
    "\\usepackage{listings}\n",
    "\\usepackage{textcomp}\n",
    "\\usepackage{fancyvrb}\n",
    "\n",
    "\\newcommand{\\passthrough}[1]{\\lstset{mathescape=false}#1\\lstset{mathescape=true}}\n",
    "\\newcommand{\\tightlist}{}\n",
    "```"
   ]
  },
  {
   "cell_type": "markdown",
   "metadata": {},
   "source": [
    "```{=latex}\n",
    "\\title{PyO3: Python Loves Rust}\n",
    "\\author{Moshe Zadka -- https://cobordism.com}\n",
    "\\date{}\n",
    "\n",
    "\\begin{document}\n",
    "\\begin{titlepage}\n",
    "\\maketitle\n",
    "\\end{titlepage}\n",
    "\n",
    "\\frame{\\titlepage}\n",
    "```"
   ]
  },
  {
   "cell_type": "markdown",
   "metadata": {
    "tags": []
   },
   "source": [
    "```{=latex}\n",
    "\\begin{frame}\n",
    "\\frametitle{Acknowledgement of Country}\n",
    "\n",
    "Belmont (in San Francisco Bay Area Peninsula)\n",
    "\n",
    "Ancestral homeland of the Ramaytush Ohlone people\n",
    "\n",
    "\\end{frame}\n",
    "```"
   ]
  },
  {
   "cell_type": "markdown",
   "metadata": {
    "tags": []
   },
   "source": [
    "I live in Belmont,\n",
    "in the San Francisco Bay Area Peninsula.\n",
    "I wish to acknowledge it as the\n",
    "ancestral homeland\n",
    "of the\n",
    "Ramaytush Ohlone people."
   ]
  },
  {
   "cell_type": "markdown",
   "metadata": {},
   "source": [
    "## Short Intro to Rust\n",
    "\n",
    "### What is Rust?\n",
    "\n",
    "### Why is Rust?\n",
    "\n",
    "### Rust binary example\n",
    "\n",
    "### Rust library example\n",
    "\n",
    "### Working example\n",
    "\n",
    "Verify characters in a string is not more\n",
    "than `n`.\n",
    "\n",
    "Struct parameters:\n",
    "\n",
    "* Character\n",
    "* Max number\n",
    "* Reset count at newlines\n",
    "\n",
    "## PyO3\n",
    "\n",
    "###  Wrapping the enum\n",
    "\n",
    "### Creating the struct\n",
    "\n",
    "### Wrapping function\n",
    "\n",
    "## Using from Python\n",
    "\n",
    "### Building wheel\n",
    "\n",
    "### Installing wheel\n",
    "\n",
    "### Manylinux wheels\n",
    "\n",
    "## Conclusion\n",
    "\n",
    "### Rust and Python is easy\n",
    "\n",
    "### Use each one for its purposes\n",
    "\n",
    "### Combine\n"
   ]
  },
  {
   "cell_type": "markdown",
   "metadata": {},
   "source": [
    "```{=latex}\n",
    "\\end{document}\n",
    "```"
   ]
  }
 ],
 "metadata": {
  "kernelspec": {
   "display_name": "pyproject-toml-talk",
   "language": "python",
   "name": "pyproject-toml-talk-venv"
  },
  "language_info": {
   "codemirror_mode": {
    "name": "ipython",
    "version": 3
   },
   "file_extension": ".py",
   "mimetype": "text/x-python",
   "name": "python",
   "nbconvert_exporter": "python",
   "pygments_lexer": "ipython3",
   "version": "3.10.7"
  },
  "toc-autonumbering": false
 },
 "nbformat": 4,
 "nbformat_minor": 4
}
