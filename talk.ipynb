{
 "cells": [
  {
   "cell_type": "markdown",
   "metadata": {},
   "source": [
    "```{=latex}\n",
    "\\usepackage{hyperref}\n",
    "\\usepackage{graphicx}\n",
    "\\usepackage{listings}\n",
    "\\usepackage{textcomp}\n",
    "\\usepackage{fancyvrb}\n",
    "\n",
    "\\newcommand{\\passthrough}[1]{\\lstset{mathescape=false}#1\\lstset{mathescape=true}}\n",
    "\\newcommand{\\tightlist}{}\n",
    "```"
   ]
  },
  {
   "cell_type": "markdown",
   "metadata": {},
   "source": [
    "```{=latex}\n",
    "\\title{PyO3: Python Loves Rust}\n",
    "\\author{Moshe Zadka -- https://cobordism.com}\n",
    "\\date{}\n",
    "\n",
    "\\begin{document}\n",
    "\\begin{titlepage}\n",
    "\\maketitle\n",
    "\\end{titlepage}\n",
    "\n",
    "\\frame{\\titlepage}\n",
    "```"
   ]
  },
  {
   "cell_type": "markdown",
   "metadata": {
    "tags": []
   },
   "source": [
    "```{=latex}\n",
    "\\begin{frame}\n",
    "\\frametitle{Acknowledgement of Country}\n",
    "\n",
    "Belmont (in San Francisco Bay Area Peninsula)\n",
    "\n",
    "Ancestral homeland of the Ramaytush Ohlone people\n",
    "\n",
    "\\end{frame}\n",
    "```"
   ]
  },
  {
   "cell_type": "markdown",
   "metadata": {
    "tags": []
   },
   "source": [
    "I live in Belmont,\n",
    "in the San Francisco Bay Area Peninsula.\n",
    "I wish to acknowledge it as the\n",
    "ancestral homeland\n",
    "of the\n",
    "Ramaytush Ohlone people."
   ]
  },
  {
   "cell_type": "markdown",
   "metadata": {},
   "source": [
    "## Short Intro to Rust\n",
    "\n",
    "### What is Rust?\n",
    "\n",
    "### Why is Rust?\n",
    "\n",
    "### Counting characters\n",
    "\n",
    "\n",
    "### Enum\n",
    "\n",
    "```rust\n",
    "enum Reset {\n",
    "    NewlinesReset,\n",
    "    SpacesReset,\n",
    "    NoReset,\n",
    "}\n",
    "```\n",
    "\n",
    "### Struct\n",
    "\n",
    "```rust\n",
    "struct Counter {\n",
    "    what: char,\n",
    "    min_number: u64,\n",
    "    reset: Reset, \n",
    "}\n",
    "```\n",
    "\n",
    "### impl\n",
    "\n",
    "```rust\n",
    "impl Counter {\n",
    "    fn has_count(\n",
    "        &self,\n",
    "        data: &str,\n",
    "    ) -> bool {\n",
    "        ...\n",
    "    }\n",
    "```\n",
    "\n",
    "### Loop\n",
    "\n",
    "```rust\n",
    "        let mut current_count = 0;\n",
    "        for c in data.chars() {\n",
    "            ...\n",
    "        }\n",
    "        false\n",
    "   }\n",
    "}\n",
    "```\n",
    "\n",
    "\n",
    "### Counting\n",
    "\n",
    "```rust\n",
    "            if current_count >= self.min_number {\n",
    "                return true;\n",
    "            }\n",
    "            ...\n",
    "            if c != self.what {\n",
    "                continue;\n",
    "            }\n",
    "            current_count += 1;            \n",
    "```\n",
    "\n",
    "\n",
    "### Reset match\n",
    "\n",
    "```rust\n",
    "            match (c, self.reset) {\n",
    "                ('\\n', Reset::NewlinesReset) | \n",
    "                (' ', Reset::SpacesReset)=> {\n",
    "                    current_count = 0;\n",
    "                }\n",
    "                _ => {}\n",
    "            }\n",
    "```\n",
    "\n",
    "## PyO3\n",
    "\n",
    "###  Wrapping the enum\n",
    "\n",
    "```rust\n",
    "#[pyclass]\n",
    "#[derive(Clone)]\n",
    "#[derive(Copy)]\n",
    "enum Reset {\n",
    "    // ...\n",
    "}\n",
    "```\n",
    "\n",
    "### Wrapping the struct\n",
    "\n",
    "```rust\n",
    "#[pyclass]\n",
    "struct Counter {\n",
    "    // ...\n",
    "}\n",
    "```\n",
    "\n",
    "### Wrapping the logic\n",
    "\n",
    "```rust\n",
    "#[pymethods]\n",
    "impl Counter {\n",
    "    #[new]\n",
    "    fn new(what: char, min_number: u64, reset: Reset) -> Self {\n",
    "        Counter{what: what, min_number: min_number, reset: reset}\n",
    "    }\n",
    "    \n",
    "    fn has_count(/* ... */) -> bool {\n",
    "        // ...\n",
    "    }\n",
    "}\n",
    "```\n",
    "### Configuring the module\n",
    "\n",
    "```rust\n",
    "#[pymodule]\n",
    "fn counter(_py: Python, m: &PyModule) -> PyResult<()> {\n",
    "    m.add_class::<Counter>()?;\n",
    "    m.add_class::<Reset>()?;\n",
    "    Ok(())\n",
    "}\n",
    "```\n",
    "\n",
    "## Using from Python\n",
    "\n",
    "### `maturin develop`\n",
    "\n",
    "### `maturin build`\n",
    "\n",
    "### `import`"
   ]
  },
  {
   "cell_type": "code",
   "execution_count": 1,
   "metadata": {},
   "outputs": [],
   "source": [
    "import counter"
   ]
  },
  {
   "cell_type": "code",
   "execution_count": 2,
   "metadata": {},
   "outputs": [],
   "source": [
    "cntr = counter.Counter('c', 3, counter.Reset.NewlinesReset)"
   ]
  },
  {
   "cell_type": "code",
   "execution_count": 3,
   "metadata": {},
   "outputs": [
    {
     "data": {
      "text/plain": [
       "True"
      ]
     },
     "execution_count": 3,
     "metadata": {},
     "output_type": "execute_result"
    }
   ],
   "source": [
    "cntr.has_count(\"hello-c-c-c-goodbye\")"
   ]
  },
  {
   "cell_type": "code",
   "execution_count": 4,
   "metadata": {},
   "outputs": [
    {
     "data": {
      "text/plain": [
       "False"
      ]
     },
     "execution_count": 4,
     "metadata": {},
     "output_type": "execute_result"
    }
   ],
   "source": [
    "cntr.has_count(\"hello-c-c-\\nc-goodbye\")"
   ]
  },
  {
   "cell_type": "markdown",
   "metadata": {},
   "source": [
    "## Conclusion\n",
    "\n",
    "### Rust and Python is easy\n",
    "\n",
    "### Use each one for its purposes\n",
    "\n",
    "### Combine"
   ]
  },
  {
   "cell_type": "markdown",
   "metadata": {},
   "source": [
    "```{=latex}\n",
    "\\end{document}\n",
    "```"
   ]
  }
 ],
 "metadata": {
  "kernelspec": {
   "display_name": "counter-demo",
   "language": "python",
   "name": "counter-demo-venv"
  },
  "language_info": {
   "codemirror_mode": {
    "name": "ipython",
    "version": 3
   },
   "file_extension": ".py",
   "mimetype": "text/x-python",
   "name": "python",
   "nbconvert_exporter": "python",
   "pygments_lexer": "ipython3",
   "version": "3.10.7"
  },
  "toc-autonumbering": false
 },
 "nbformat": 4,
 "nbformat_minor": 4
}
